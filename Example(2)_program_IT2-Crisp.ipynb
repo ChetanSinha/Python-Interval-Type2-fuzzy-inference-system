{
 "cells": [
  {
   "attachments": {},
   "cell_type": "markdown",
   "metadata": {},
   "source": [
    "# Example of Interval type-2 fuzzy system using crisp inputs:\n",
    "\n",
    "## Determining fitness of a person based on thier height and weight"
   ]
  },
  {
   "cell_type": "code",
   "execution_count": 1,
   "metadata": {},
   "outputs": [],
   "source": [
    "import numpy as np\n",
    "import skfuzzy as fuzz\n",
    "import matplotlib.pyplot as plt\n"
   ]
  },
  {
   "cell_type": "code",
   "execution_count": 2,
   "metadata": {},
   "outputs": [],
   "source": [
    "def fuzz_Mem_Func(var, typeOfMf, lst):\n",
    "    '''\n",
    "    returns Upper membership values.\n",
    "    \n",
    "    keyword arguments:\n",
    "    \n",
    "    var -- x range of variable \n",
    "    typeOfMf -- type of membershi function\n",
    "    lst -- list of values provided\n",
    "    '''\n",
    "    if typeOfMf == 'trimf':\n",
    "        return fuzz.trimf(var,lst)\n",
    "    elif typeOfMf == 'gaussmf':\n",
    "        mean, sigma = lst\n",
    "        return fuzz.gaussmf(var, mean, sigma)\n",
    "    elif typeOfMf == 'gauss2mf':\n",
    "        mean1, sigma1, mean2, sigma2 = lst\n",
    "        return fuzz.gauss2mf(var, mean1, sigma1, mean2, sigma2)\n",
    "    elif typeOfMf == 'trapmf':\n",
    "        return fuzz.trapmf(var, lst)\n",
    "    elif typeOfMf == 'gbellmf':\n",
    "        a,b,c = lst\n",
    "        return fuzz.gbellmf(var, a, b, c)"
   ]
  },
  {
   "cell_type": "code",
   "execution_count": 3,
   "metadata": {},
   "outputs": [],
   "source": [
    "def fuzz_Inputs(x_var, var):\n",
    "    '''\n",
    "    returns the list membership values along the range\n",
    "    and the list of linguistic terms chosen.\n",
    "    \n",
    "    keyword arguments:\n",
    "    \n",
    "    x_var -- x range of the variable var\n",
    "    var -- variable name\n",
    "    '''\n",
    "\n",
    "#   input linguistic terms for a linguistic variable. \n",
    "    lst = input(f'Enter the fuzzy inputs for variable {var}:').split(' ')\n",
    "\n",
    "    In_ = [] #list to store the membership values.\n",
    "    \n",
    "    for i in range(len(lst)):\n",
    "        typeofMf = input(f'Enter the type of membership function for {lst[i]} {var}:')\n",
    "        \n",
    "        '''The input format here for membership values.\n",
    "        \n",
    "        ex: trapziodal func: [a b c d]\n",
    "        traingular func: [a b c]\n",
    "        '''\n",
    "        varType = [type(x_var[0])(x) for x in input(f\"Enter the numbers for {lst[i]} {var}:\").split(' ')]\n",
    "        \n",
    "        varmf = fuzz_Mem_Func(x_var, typeofMf, varType)\n",
    "        In_.append(varmf)\n",
    "    \n",
    "    lstoflst = [In_, lst]\n",
    "    return lstoflst"
   ]
  },
  {
   "cell_type": "code",
   "execution_count": 4,
   "metadata": {},
   "outputs": [],
   "source": [
    "def fuzz_plot_mf(x_var, var_, var_types, varName):\n",
    "    '''\n",
    "    plots the membership graph for variable varName.\n",
    "    \n",
    "    keyword argument:\n",
    "    \n",
    "    varName -- name of the variable\n",
    "    x_var -- x range of variable varName\n",
    "    var_ -- list of membership values\n",
    "    var_types -- list storing the linguistic terms\n",
    "    '''\n",
    "    print(f'The following plot shows the {varName}')\n",
    "    fig, ax = plt.subplots(figsize=(8, 3))\n",
    "\n",
    "    for i in range(len(var_)):\n",
    "        ax.plot(x_var, var_[i], linewidth=1.5, label=var_types[i])\n",
    "    ax.set_title(varName)\n",
    "    ax.legend()"
   ]
  },
  {
   "cell_type": "code",
   "execution_count": null,
   "metadata": {},
   "outputs": [],
   "source": [
    "def fuzz_make_rules(var1_types, var2_types):\n",
    "    '''\n",
    "    returns a list with decided rules.\n",
    "    \n",
    "    keyword arguments:\n",
    "    \n",
    "    var1_types -- linguistic terms of first variable\n",
    "    var2_types -- linguistic terms of second variable\n",
    "    '''\n",
    "    \n",
    "    rule_lst = []\n",
    "    for i in range(len(var1_types)):\n",
    "        rule_ = []\n",
    "        for j in range(len(var2_types)):\n",
    "            rule_.append(int(input(f'Enter the number corresponding to the above fitness level menu for rule {var1_types[i]} and {var2_types[j]}: ')))\n",
    "        rule_lst.append(rule_)\n",
    "    return rule_lst"
   ]
  },
  {
   "cell_type": "code",
   "execution_count": 5,
   "metadata": {},
   "outputs": [],
   "source": [
    "def fuzz_Interplot_mem(x_var, lst, singleton_value):\n",
    "    '''\n",
    "    Does the inter plotting bw singleton value and the membership value.\n",
    "    \n",
    "    keywords arguments:\n",
    "    \n",
    "    x_var -- x range of values of a variable\n",
    "    var -- list of membership values\n",
    "    singleton_value -- input value\n",
    "    '''\n",
    "    memvalue = []\n",
    "    for i in range(len(lst)):\n",
    "        memvalue.append(fuzz.interp_membership(x_var, lst[i], singleton_value))\n",
    "\n",
    "    return memvalue"
   ]
  },
  {
   "cell_type": "code",
   "execution_count": 6,
   "metadata": {},
   "outputs": [],
   "source": [
    "def fuzz_rule(row_memvalue, col_memvalue, output_, rule_lst):\n",
    "    '''\n",
    "    Maps the membership values of the antecedents with the consequent on the basis of decided rules.\n",
    "    \n",
    "    keyword arguments:\n",
    "    \n",
    "    row_memvalue -- membership values of a antecedent along the row\n",
    "    col_memvalue -- membership values of a antecedent along the column\n",
    "    output_ -- membership values of the consequent \n",
    "    rule_lst -- list containing the decided rules\n",
    "    '''\n",
    "    rule = [] #list stroing maped value of membership functions\n",
    "    output_used = [] #list of membership values of the consequent used acc. to the decided rules\n",
    "    for i in range(len(row_memvalue)):\n",
    "        for j in range(len(col_memvalue)):\n",
    "            fitness_used.append(output_[rule_lst[i][j] - 1])\n",
    "            rule.append(np.fmin(np.fmin(row_memvalue[i], col_memvalue[j]), output_[rule_lst[i][j] - 1]))\n",
    "\n",
    "    return [rule, output_used]"
   ]
  },
  {
   "cell_type": "code",
   "execution_count": 1,
   "metadata": {},
   "outputs": [],
   "source": [
    "def fuzz_plot_outputMf(x_var, rule, output_used):\n",
    "    '''\n",
    "    plot output membership function at a given singleton value.\n",
    "    \n",
    "    keyword arguments:\n",
    "    \n",
    "    x_var -- x range of variable\n",
    "    rule -- mapped rules for memberships\n",
    "    output_used -- type of linguistic terms of output used based on the rules decided\n",
    "    '''\n",
    "    zerolike = np.zeros_like(x_var)\n",
    "    fig, ax0 = plt.subplots(figsize=(8, 3))\n",
    "\n",
    "    for i in range(len(rule)):\n",
    "        ax0.fill_between(x_var, zerolike, rule[i], facecolor='orange', alpha=0.7)\n",
    "        ax0.plot(x_var, output_used[i], linewidth=0.5,linestyle='--')\n",
    "\n",
    "    ax0.set_title('Output membership activity')\n",
    "\n",
    "    # Turn off top/right axes\n",
    "    for ax in (ax0,):\n",
    "        ax.spines['top'].set_visible(False)\n",
    "        ax.spines['right'].set_visible(False)\n",
    "        ax.get_xaxis().tick_bottom()\n",
    "        ax.get_yaxis().tick_left()\n",
    "\n",
    "    plt.tight_layout()\n",
    "    return"
   ]
  },
  {
   "cell_type": "code",
   "execution_count": 8,
   "metadata": {},
   "outputs": [],
   "source": [
    "def fuzz_aggregation(rule):\n",
    "     '''\n",
    "    aggregates the rules.\n",
    "    \n",
    "    keyword arguments:\n",
    "    \n",
    "    rule --  maped rule for membership\n",
    "    '''\n",
    "    l = len(rule) - 1\n",
    "    npfmax = np.fmax(rule[l - 1], rule[l])\n",
    "    for i in range(len(rule) - 2):\n",
    "        l = (len(rule) - 1) - (i + 1)\n",
    "        npfmax = np.fmax(rule[l - 1], npfmax)\n",
    "\n",
    "    return npfmax"
   ]
  },
  {
   "cell_type": "code",
   "execution_count": 9,
   "metadata": {},
   "outputs": [],
   "source": [
    "def fuzz_defuzz(x_var, R_combined):\n",
    "    '''\n",
    "    defuzzifies based on the aggregated rules.\n",
    "    \n",
    "    keyword arguments:\n",
    "    \n",
    "    x_var -- x range of variable\n",
    "    R_combined_ -- aggregated rules for membership values\n",
    "    '''\n",
    "    output = fuzz.defuzz(x_var, R_combined, 'centroid')\n",
    "    output_activation = fuzz.interp_membership(x_var, R_combined, output)\n",
    "    lst = [output, output_activation]\n",
    "    return lst"
   ]
  },
  {
   "cell_type": "code",
   "execution_count": 10,
   "metadata": {},
   "outputs": [],
   "source": [
    "def fuzz_output(x_var, var, output, output_activation, R_combined):\n",
    "    '''\n",
    "    plots the ouput value along with the centroid.\n",
    "    \n",
    "    keyword arguments:\n",
    "    \n",
    "    x_var -- x range of the variable\n",
    "    var -- membership values of the consequent\n",
    "    output -- centroid value\n",
    "    output_activation -- membership value of centroid value\n",
    "    R_combined -- aggregated rules for membership functions \n",
    "    '''\n",
    "    fig, ax0 = plt.subplots(figsize=(8, 3))\n",
    "    zerolike = np.zeros_like(x_var)\n",
    "    for i in range(len(var)):\n",
    "        ax0.plot(x_var, var[i], linewidth=0.5, linestyle='--', )\n",
    "    ax0.fill_between(x_var, zerolike, R_combined, facecolor='Orange', alpha=0.7)\n",
    "    ax0.plot([output, output], [0, output_activation], 'k', linewidth=1.5, alpha=0.9)\n",
    "    ax0.set_title('Aggregated membership and result (line)')\n",
    "\n",
    "    # Turn off top/right axes\n",
    "    for ax in (ax0,):\n",
    "        ax.spines['top'].set_visible(False)\n",
    "        ax.spines['right'].set_visible(False)\n",
    "        ax.get_xaxis().tick_bottom()\n",
    "        ax.get_yaxis().tick_left()\n",
    "\n",
    "    plt.tight_layout()\n",
    "    print(f'Output = {output}')"
   ]
  },
  {
   "cell_type": "markdown",
   "metadata": {},
   "source": [
    "# if __name__ == '__main__':"
   ]
  },
  {
   "cell_type": "code",
   "execution_count": 11,
   "metadata": {},
   "outputs": [
    {
     "name": "stdout",
     "output_type": "stream",
     "text": [
      "Enter the range of weight:30 101 1\n",
      "Enter the range of height:4 7.6 0.1\n",
      "Enter the range of fitnes level:0 11 1\n"
     ]
    }
   ],
   "source": [
    "'''\n",
    "input format:\n",
    "x -- the starting value of the range.\n",
    "y -- the upper bound of the range\n",
    "z -- the incrementation value (the difference two values of the range)\n",
    "'''\n",
    "x, y, z = [int(x) for x in input(\"Enter the range of weight:\").split(' ')]\n",
    "x_weight = np.arange(x, y, z)\n",
    "\n",
    "x, y, z = [float(x) for x in input(\"Enter the range of height:\").split(' ')]\n",
    "x_height = np.arange(x, y, z)\n",
    "\n",
    "x, y, z = [int(x) for x in input(\"Enter the range of fitnes level:\").split(' ')]\n",
    "x_fitnessLevel = np.arange(x, y, z)"
   ]
  },
  {
   "cell_type": "code",
   "execution_count": 13,
   "metadata": {},
   "outputs": [
    {
     "name": "stdout",
     "output_type": "stream",
     "text": [
      "Enter the fuzzy inputs for variable weight:thin medium fat\n",
      "['thin', 'medium', 'fat']\n",
      "Enter the type of membership function for thin weight:trapmf\n",
      "Enter the numbers for thin weight:20 30 40 50\n",
      "Enter the type of membership function for medium weight:trapmf\n",
      "Enter the numbers for medium weight:40 55 65 100\n",
      "Enter the type of membership function for fat weight:trimf\n",
      "Enter the numbers for fat weight:75 100 100\n"
     ]
    }
   ],
   "source": [
    "'''\n",
    "w -- 2D tuple containing seperate UMF and LMF of weight(here).\n",
    "w_types -- list containg the linguistic terms for weight(here).\n",
    "'''\n",
    "w_, w_types = fuzz_Inputs(x_weight, 'weight')"
   ]
  },
  {
   "cell_type": "code",
   "execution_count": 14,
   "metadata": {},
   "outputs": [
    {
     "name": "stdout",
     "output_type": "stream",
     "text": [
      "Enter the fuzzy inputs for variable height:short medium tall\n",
      "['short', 'medium', 'tall']\n",
      "Enter the type of membership function for short height:trimf\n",
      "Enter the numbers for short height:4 4 5.2\n",
      "Enter the type of membership function for medium height:trimf\n",
      "Enter the numbers for medium height:4 5.6 7.5\n",
      "Enter the type of membership function for tall height:trimf\n",
      "Enter the numbers for tall height:6 7.6 7.6\n"
     ]
    }
   ],
   "source": [
    "h_,h_types = fuzz_Inputs(x_height, 'height')\n"
   ]
  },
  {
   "cell_type": "code",
   "execution_count": 16,
   "metadata": {},
   "outputs": [
    {
     "name": "stdout",
     "output_type": "stream",
     "text": [
      "Enter the fuzzy inputs for variable fitness level:unfit moderatelyFit fit\n",
      "['unfit', 'moderatelyFit', 'fit']\n",
      "Enter the type of membership function for unfit fitness level:trapmf\n",
      "Enter the numbers for unfit fitness level:-1 0 3 6\n",
      "Enter the type of membership function for moderatelyFit fitness level:trimf\n",
      "Enter the numbers for moderatelyFit fitness level:3 6 10\n",
      "Enter the type of membership function for fit fitness level:trimf\n",
      "Enter the numbers for fit fitness level:7 10 10\n"
     ]
    }
   ],
   "source": [
    "f_,f_types = fuzz_Inputs(x_fitnessLevel, 'fitness level')"
   ]
  },
  {
   "cell_type": "code",
   "execution_count": 17,
   "metadata": {},
   "outputs": [
    {
     "name": "stdout",
     "output_type": "stream",
     "text": [
      "The following plot shows the Weight\n",
      "The following plot shows the Height\n",
      "The following plot shows the Fitness Level\n"
     ]
    },
    {
     "data": {
      "image/png": "[encoded data removed]",
      "text/plain": [
       "<Figure size 576x216 with 1 Axes>"
      ]
     },
     "metadata": {
      "needs_background": "light"
     },
     "output_type": "display_data"
    },
    {
     "data": {
      "image/png": "[encoded data removed]",
      "text/plain": [
       "<Figure size 576x216 with 1 Axes>"
      ]
     },
     "metadata": {
      "needs_background": "light"
     },
     "output_type": "display_data"
    },
    {
     "data": {
      "image/png": "[encoded data removed]",
      "text/plain": [
       "<Figure size 576x216 with 1 Axes>"
      ]
     },
     "metadata": {
      "needs_background": "light"
     },
     "output_type": "display_data"
    }
   ],
   "source": [
    "'''\n",
    "Ploting the membership values for each of antecedent and consequent\n",
    "'''\n",
    "fuzz_plot_mf(x_weight, w_, w_types, 'Weight')\n",
    "fuzz_plot_mf(x_height, h_, h_types, 'Height')\n",
    "fuzz_plot_mf(x_fitnessLevel, f_,f_types, 'Fitness Level')"
   ]
  },
  {
   "cell_type": "code",
   "execution_count": null,
   "metadata": {},
   "outputs": [],
   "source": [
    "'''\n",
    "Displays the list of linguistic terms of the consequent, corresponding to a value.\n",
    "'''\n",
    "for i in range(len(f_types)):\n",
    "    print(f'{i+1}) {f_types[i]}')"
   ]
  },
  {
   "cell_type": "code",
   "execution_count": null,
   "metadata": {},
   "outputs": [],
   "source": [
    "'''\n",
    "rule_lst -- list of rules decided\n",
    "'''\n",
    "rule_lst = fuzz_make_rules(w_types, h_types)"
   ]
  },
  {
   "cell_type": "code",
   "execution_count": 18,
   "metadata": {},
   "outputs": [
    {
     "name": "stdout",
     "output_type": "stream",
     "text": [
      "Enter Value for weight:60 \n",
      "Enter value for height:5.6\n"
     ]
    }
   ],
   "source": [
    "'''\n",
    "x_memvalue -- membership value at a particular single value for the antecedent x(weight and height here).\n",
    "'''\n",
    "weight = int(input('Enter Value for weight:'))\n",
    "height = float(input('Enter value for height:'))"
   ]
  },
  {
   "cell_type": "code",
   "execution_count": 19,
   "metadata": {},
   "outputs": [],
   "source": [
    "w_memvalue = fuzz_Interplot_mem(x_weight, w_, weight)\n",
    "h_memvalue = fuzz_Interplot_mem(x_height, h_, height)"
   ]
  },
  {
   "cell_type": "code",
   "execution_count": 21,
   "metadata": {
    "scrolled": true
   },
   "outputs": [
    {
     "name": "stdout",
     "output_type": "stream",
     "text": [
      "Enter the number corresponding to the above fitness level menu for rule thin and short3\n",
      "Enter the number corresponding to the above fitness level menu for rule thin and medium2\n",
      "Enter the number corresponding to the above fitness level menu for rule thin and tall1\n",
      "Enter the number corresponding to the above fitness level menu for rule medium and short2\n",
      "Enter the number corresponding to the above fitness level menu for rule medium and medium3\n",
      "Enter the number corresponding to the above fitness level menu for rule medium and tall2\n",
      "Enter the number corresponding to the above fitness level menu for rule fat and short1\n",
      "Enter the number corresponding to the above fitness level menu for rule fat and medium2\n",
      "Enter the number corresponding to the above fitness level menu for rule fat and tall3\n"
     ]
    }
   ],
   "source": [
    "'''\n",
    "rule -- maped rule for membership values.\n",
    "fitness_used -- list of fitness values decided based the rule_lst(to be used for ploting)\n",
    "'''\n",
    "rule, fitness_used = fuzz_rule(w_memvalue, h_memvalue, f_, rule_lst)"
   ]
  },
  {
   "cell_type": "code",
   "execution_count": 23,
   "metadata": {},
   "outputs": [
    {
     "data": {
      "image/png": "[encoded data removed]",
      "text/plain": [
       "<Figure size 576x216 with 1 Axes>"
      ]
     },
     "metadata": {
      "needs_background": "light"
     },
     "output_type": "display_data"
    }
   ],
   "source": [
    "fuzz_plot_outputMf(x_fitnessLevel, rule, fitness_used)\n"
   ]
  },
  {
   "cell_type": "code",
   "execution_count": 24,
   "metadata": {},
   "outputs": [],
   "source": [
    "'''\n",
    "R_combined -- aggregated rule for membership values.\n",
    "'''\n",
    "R_combined = fuzz_aggregation(rule)"
   ]
  },
  {
   "cell_type": "code",
   "execution_count": 25,
   "metadata": {},
   "outputs": [],
   "source": [
    "'''\n",
    "fitnessLevel -- output value(centroid value)\n",
    "fitness_activation -- corresponding membership value of output\n",
    "'''\n",
    "fitnessLevel, fitness_activation = fuzz_defuzz(x_fitnessLevel, R_combined)"
   ]
  },
  {
   "cell_type": "code",
   "execution_count": 26,
   "metadata": {},
   "outputs": [
    {
     "name": "stdout",
     "output_type": "stream",
     "text": [
      "Fitness Level = 9.0\n"
     ]
    },
    {
     "data": {
      "image/png": "[encoded data removed]",
      "text/plain": [
       "<Figure size 576x216 with 1 Axes>"
      ]
     },
     "metadata": {
      "needs_background": "light"
     },
     "output_type": "display_data"
    }
   ],
   "source": [
    "fuzz_output(x_fitnessLevel, f_, fitnessLevel, fitness_activation, R_combined)"
   ]
  },
  {
   "cell_type": "code",
   "execution_count": null,
   "metadata": {},
   "outputs": [],
   "source": []
  }
 ],
 "metadata": {
  "kernelspec": {
   "display_name": "Python 3",
   "language": "python",
   "name": "python3"
  },
  "language_info": {
   "codemirror_mode": {
    "name": "ipython",
    "version": 3
   },
   "file_extension": ".py",
   "mimetype": "text/x-python",
   "name": "python",
   "nbconvert_exporter": "python",
   "pygments_lexer": "ipython3",
   "version": "3.7.3"
  }
 },
 "nbformat": 4,
 "nbformat_minor": 2
}
